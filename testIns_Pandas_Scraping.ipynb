{
 "cells": [
  {
   "cell_type": "markdown",
   "metadata": {
    "slideshow": {
     "slide_type": "slide"
    }
   },
   "source": [
    "# Scraping with Pandas"
   ]
  },
  {
   "cell_type": "code",
   "execution_count": 1,
   "metadata": {
    "slideshow": {
     "slide_type": "slide"
    }
   },
   "outputs": [],
   "source": [
    "import pandas as pd"
   ]
  },
  {
   "cell_type": "markdown",
   "metadata": {
    "slideshow": {
     "slide_type": "subslide"
    }
   },
   "source": [
    "We can use the `read_html` function in Pandas to automatically scrape any tabular data from a page."
   ]
  },
  {
   "cell_type": "code",
   "execution_count": 2,
   "metadata": {
    "slideshow": {
     "slide_type": "fragment"
    }
   },
   "outputs": [],
   "source": [
    "url = 'https://en.wikipedia.org/wiki/List_of_capitals_in_the_United_States'"
   ]
  },
  {
   "cell_type": "code",
   "execution_count": 3,
   "metadata": {
    "slideshow": {
     "slide_type": "fragment"
    }
   },
   "outputs": [
    {
     "data": {
      "text/plain": [
       "[                             City                                Building  \\\n",
       "       Second Continental Congress             Second Continental Congress   \n",
       " 0      Philadelphia, Pennsylvania                       Independence Hall   \n",
       " 1             Baltimore, Maryland                        Henry Fite House   \n",
       " 2      Philadelphia, Pennsylvania                       Independence Hall   \n",
       " 3         Lancaster, Pennsylvania                             Court House   \n",
       " 4              York, Pennsylvania  Court House (now Colonial Court House)   \n",
       " 5      Philadelphia, Pennsylvania           College Hall[citation needed]   \n",
       " 6   Congress of the Confederation           Congress of the Confederation   \n",
       " 7      Philadelphia, Pennsylvania                       Independence Hall   \n",
       " 8           Princeton, New Jersey                             Nassau Hall   \n",
       " 9             Annapolis, Maryland                    Maryland State House   \n",
       " 10            Trenton, New Jersey                      French Arms Tavern   \n",
       " 11             New York, New York                               City Hall   \n",
       " 12         United States Congress                  United States Congress   \n",
       " 13             New York, New York                            Federal Hall   \n",
       " 14     Philadelphia, Pennsylvania                           Congress Hall   \n",
       " 15           District of Columbia                   United States Capitol   \n",
       " 16               Washington, D.C.                        Blodgett's Hotel   \n",
       " 17               Washington, D.C.                       Old Brick Capitol   \n",
       " 18               Washington, D.C.                   United States Capitol   \n",
       " \n",
       "                                            Start date  \\\n",
       "                           Second Continental Congress   \n",
       " 0   July 4, 1776 (convened May 10, 1775, prior to ...   \n",
       " 1                                   December 20, 1776   \n",
       " 2                                       March 5, 1777   \n",
       " 3                                  September 27, 1777   \n",
       " 4                                  September 30, 1777   \n",
       " 5                                        July 2, 1778   \n",
       " 6                       Congress of the Confederation   \n",
       " 7                                       March 2, 1781   \n",
       " 8                                       June 30, 1783   \n",
       " 9                                   November 26, 1783   \n",
       " 10                                   November 1, 1784   \n",
       " 11                                   January 11, 1785   \n",
       " 12                             United States Congress   \n",
       " 13                                      March 4, 1789   \n",
       " 14                                   December 6, 1790   \n",
       " 15                                  November 17, 1800   \n",
       " 16                                 September 19, 1814   \n",
       " 17                                   December 4, 1815   \n",
       " 18                                      March 4, 1819   \n",
       " \n",
       "                          End date                        Duration  \\\n",
       "       Second Continental Congress     Second Continental Congress   \n",
       " 0               December 12, 1776             5 months and 8 days   \n",
       " 1               February 27, 1777             2 months and 7 days   \n",
       " 2              September 18, 1777            6 months and 13 days   \n",
       " 3              September 27, 1777                           1 day   \n",
       " 4                   June 27, 1778            8 months and 28 days   \n",
       " 5                   March 1, 1781   2 years, 7 months and 27 days   \n",
       " 6   Congress of the Confederation   Congress of the Confederation   \n",
       " 7                   June 21, 1783   2 years, 3 months and 19 days   \n",
       " 8                November 4, 1783             4 months and 5 days   \n",
       " 9                 August 19, 1784            8 months and 24 days   \n",
       " 10              December 24, 1784             1 month and 23 days   \n",
       " 11                October 6, 1788   3 years, 11 months and 5 days   \n",
       " 12         United States Congress          United States Congress   \n",
       " 13               December 5, 1790      1 year, 9 months and 1 day   \n",
       " 14                   May 14, 1800    9 years, 5 months and 8 days   \n",
       " 15                August 24, 1814   13 years, 9 months and 7 days   \n",
       " 16               December 7, 1815    1 year, 2 months and 18 days   \n",
       " 17                  March 3, 1819   3 years, 2 months and 27 days   \n",
       " 18                        Present  202 years, 1 month and 18 days   \n",
       " \n",
       "                               Ref  \n",
       "       Second Continental Congress  \n",
       " 0                             [8]  \n",
       " 1                             [9]  \n",
       " 2                            [10]  \n",
       " 3                            [10]  \n",
       " 4                            [10]  \n",
       " 5                            [11]  \n",
       " 6   Congress of the Confederation  \n",
       " 7                            [11]  \n",
       " 8                            [11]  \n",
       " 9                            [11]  \n",
       " 10                           [11]  \n",
       " 11                           [11]  \n",
       " 12         United States Congress  \n",
       " 13                           [11]  \n",
       " 14                           [11]  \n",
       " 15                           [11]  \n",
       " 16                           [12]  \n",
       " 17                           [13]  \n",
       " 18                           [14]  ,\n",
       "              State         Capital Since Area (mi2) Population (2019 est.)  \\\n",
       "              State         Capital Since Area (mi2)                 Proper   \n",
       " 0          Alabama      Montgomery  1846      159.8                 198525   \n",
       " 1           Alaska          Juneau  1906     2716.7                  32113   \n",
       " 2          Arizona         Phoenix  1912      517.6                1680992   \n",
       " 3         Arkansas     Little Rock  1821      116.2                 197312   \n",
       " 4       California      Sacramento  1854       97.9                 513624   \n",
       " 5         Colorado          Denver  1867      153.3                 727211   \n",
       " 6      Connecticut        Hartford  1875       17.3                 122105   \n",
       " 7         Delaware           Dover  1777       22.4                  38079   \n",
       " 8          Florida     Tallahassee  1824       95.7                 194500   \n",
       " 9          Georgia         Atlanta  1868      133.5                 506811   \n",
       " 10          Hawaii        Honolulu  1845       68.4                 345064   \n",
       " 11           Idaho           Boise  1865       63.8                 228959   \n",
       " 12        Illinois     Springfield  1837       54.0                 114230   \n",
       " 13         Indiana    Indianapolis  1825      361.5                 876384   \n",
       " 14            Iowa      Des Moines  1857       75.8                 214237   \n",
       " 15          Kansas          Topeka  1856       56.0                 125310   \n",
       " 16        Kentucky       Frankfort  1792       14.7                  27679   \n",
       " 17       Louisiana     Baton Rouge  1880       76.8                 220236   \n",
       " 18           Maine         Augusta  1832       55.4                  18681   \n",
       " 19        Maryland       Annapolis  1694       6.73                  39174   \n",
       " 20   Massachusetts          Boston  1630       89.6                 692600   \n",
       " 21        Michigan         Lansing  1847       35.0                 118210   \n",
       " 22       Minnesota      Saint Paul  1849       52.8                 308096   \n",
       " 23     Mississippi         Jackson  1821      104.9                 160628   \n",
       " 24        Missouri  Jefferson City  1826       27.3                  42838   \n",
       " 25         Montana          Helena  1875       14.0                  32315   \n",
       " 26        Nebraska         Lincoln  1867       74.6                 289102   \n",
       " 27          Nevada     Carson City  1861      143.4                  55916   \n",
       " 28   New Hampshire         Concord  1808       64.3                  43627   \n",
       " 29      New Jersey         Trenton  1784       7.66                  83203   \n",
       " 30      New Mexico        Santa Fe  1610       37.3                  84683   \n",
       " 31        New York          Albany  1797       21.4                  96460   \n",
       " 32  North Carolina         Raleigh  1792      114.6                 474069   \n",
       " 33    North Dakota        Bismarck  1883       26.9                  73529   \n",
       " 34            Ohio        Columbus  1816      210.3                 898553   \n",
       " 35        Oklahoma   Oklahoma City  1910      620.3                 655057   \n",
       " 36          Oregon           Salem  1855       45.7                 174365   \n",
       " 37    Pennsylvania      Harrisburg  1812       8.11                  49528   \n",
       " 38    Rhode Island      Providence  1900       18.5                 179883   \n",
       " 39  South Carolina        Columbia  1786      125.2                 131674   \n",
       " 40    South Dakota          Pierre  1889       13.0                  13646   \n",
       " 41       Tennessee       Nashville  1826      525.9                 670820   \n",
       " 42           Texas          Austin  1839      305.1                 978908   \n",
       " 43            Utah  Salt Lake City  1858      109.1                 200567   \n",
       " 44         Vermont      Montpelier  1805       10.2                   7855   \n",
       " 45        Virginia        Richmond  1780       60.1                 230436   \n",
       " 46      Washington         Olympia  1853       16.7                  46478   \n",
       " 47   West Virginia      Charleston  1885       31.6                  46536   \n",
       " 48       Wisconsin         Madison  1838       68.7                 259680   \n",
       " 49         Wyoming        Cheyenne  1869       21.1                  64235   \n",
       " 50            [15]            [15]  [15]       [15]                   [15]   \n",
       " \n",
       "                       Rank in state(city proper)  \n",
       "     MSA/µSA       CSA Rank in state(city proper)  \n",
       " 0    373290    461516                          3  \n",
       " 1     32113       NaN                          3  \n",
       " 2   4948203   5002221                          1  \n",
       " 3    742384    908941                          1  \n",
       " 4   2363730   2639124                          6  \n",
       " 5   2967239   3617927                          1  \n",
       " 6   1204877   1470083                          3  \n",
       " 7    180786   7209620                          2  \n",
       " 8    387227       NaN                          7  \n",
       " 9   6020364   6853392                          1  \n",
       " 10   974563       NaN                          1  \n",
       " 11   749202    831235                          1  \n",
       " 12   206868    306399                          6  \n",
       " 13  2074537   2457286                          1  \n",
       " 14   699292    877991                          1  \n",
       " 15   231969       NaN                          4  \n",
       " 16    73663    745033                         15  \n",
       " 17   854884       NaN                          2  \n",
       " 18   122302       NaN                          8  \n",
       " 19  2800053   9814928                          7  \n",
       " 20  4873019   8287710                          1  \n",
       " 21   550391       NaN                          5  \n",
       " 22  3654908   4027861                          2  \n",
       " 23   594806    674340                          1  \n",
       " 24   151235       NaN                         15  \n",
       " 25    77414       NaN                          6  \n",
       " 26   336374    357887                          2  \n",
       " 27    55916    637973                          6  \n",
       " 28   151391   8287710                          3  \n",
       " 29   367430  22589036                         10  \n",
       " 30   150358   1158464                          4  \n",
       " 31   880381   1167594                          6  \n",
       " 32  1390785   2079687                          2  \n",
       " 33   128949       NaN                          2  \n",
       " 34  2122271   2525639                          1  \n",
       " 35  1408950   1481542                          1  \n",
       " 36   433903   3259710                          3  \n",
       " 37   577941   1271801                          9  \n",
       " 38  1624578   8287710                          1  \n",
       " 39   838433    963048                          2  \n",
       " 40    20672       NaN                          8  \n",
       " 41  1934317   2062547                          1  \n",
       " 42  2227083       NaN                          4  \n",
       " 43  1232696   2641048                          1  \n",
       " 44      NaN       NaN                          6  \n",
       " 45  1291900       NaN                          4  \n",
       " 46   290536   4903675                         24  \n",
       " 47   257074    776694                          1  \n",
       " 48   664865    892661                          2  \n",
       " 49    99500       NaN                          1  \n",
       " 50     [15]      [15]                       [15]  ,\n",
       "                Insular area Abr.  Date           Capital  Pop. (2010)  \\\n",
       " 0            American Samoa   AS  1899         Pago Pago         3656   \n",
       " 1                      Guam   GU  1898           Hagåtña         1051   \n",
       " 2  Northern Mariana Islands   MP  1947            Saipan        48220   \n",
       " 3               Puerto Rico   PR  1898          San Juan       395326   \n",
       " 4       U.S. Virgin Islands   VI  1917  Charlotte Amalie        18481   \n",
       " \n",
       "                                                Notes  \n",
       " 0  Pago Pago refers to both a village and a group...  \n",
       " 1              Dededo is the area's largest village.  \n",
       " 2                                                NaN  \n",
       " 3  The oldest continuously inhabited U.S. state o...  \n",
       " 4                                                NaN  ,\n",
       "                           City                     Building  \\\n",
       "                Albany Congress              Albany Congress   \n",
       " 0             Albany, New York                   Stadt Huys   \n",
       " 1           Stamp Act Congress           Stamp Act Congress   \n",
       " 2           New York, New York                    City Hall   \n",
       " 3   First Continental Congress   First Continental Congress   \n",
       " 4   Philadelphia, Pennsylvania             Carpenters' Hall   \n",
       " 5  Second Continental Congress  Second Continental Congress   \n",
       " 6   Philadelphia, Pennsylvania            Independence Hall   \n",
       " \n",
       "                     Start date  \\\n",
       "                Albany Congress   \n",
       " 0                June 19, 1754   \n",
       " 1           Stamp Act Congress   \n",
       " 2              October 7, 1765   \n",
       " 3   First Continental Congress   \n",
       " 4            September 5, 1774   \n",
       " 5  Second Continental Congress   \n",
       " 6                 May 10, 1775   \n",
       " \n",
       "                                             End date  \\\n",
       "                                      Albany Congress   \n",
       " 0                                      July 11, 1754   \n",
       " 1                                 Stamp Act Congress   \n",
       " 2                                   October 25, 1765   \n",
       " 3                         First Continental Congress   \n",
       " 4                                   October 26, 1774   \n",
       " 5                        Second Continental Congress   \n",
       " 6  July 4, 1776 (continuing after independence un...   \n",
       " \n",
       "                       Duration                          Ref  \n",
       "                Albany Congress              Albany Congress  \n",
       " 0                      22 days                         [22]  \n",
       " 1           Stamp Act Congress           Stamp Act Congress  \n",
       " 2                      23 days                         [23]  \n",
       " 3   First Continental Congress   First Continental Congress  \n",
       " 4          1 month and 21 days                         [24]  \n",
       " 5  Second Continental Congress  Second Continental Congress  \n",
       " 6  1 year, 1 month and 24 days                         [25]  ,\n",
       "                               State        Capital  Date  \\\n",
       " 0      Alabama[28]Statehood in 1819    San Agustín  1565   \n",
       " 1      Alabama[28]Statehood in 1819       Savannah  1733   \n",
       " 2      Alabama[28]Statehood in 1819       Savannah  1755   \n",
       " 3      Alabama[28]Statehood in 1819       Savannah  1776   \n",
       " 4      Alabama[28]Statehood in 1819   Augusta (GA)  1778   \n",
       " ..                              ...            ...   ...   \n",
       " 468  Wisconsin[62]Statehood in 1848        Madison  1848   \n",
       " 469    Wyoming[63]Statehood in 1890  Lewiston (ID)  1863   \n",
       " 470    Wyoming[63]Statehood in 1890   Yankton (SD)  1864   \n",
       " 471    Wyoming[63]Statehood in 1890       Cheyenne  1869   \n",
       " 472    Wyoming[63]Statehood in 1890       Cheyenne  1890   \n",
       " \n",
       "                                                  Notes  \n",
       " 0     Capital of the Spanish colony of La Florida.[29]  \n",
       " 1    Capital of the British proprietary Colony of G...  \n",
       " 2          Capital of the British Province of Georgia.  \n",
       " 3                    Capitals of the State of Georgia.  \n",
       " 4                    Capitals of the State of Georgia.  \n",
       " ..                                                 ...  \n",
       " 468                 Capital of the State of Wisconsin.  \n",
       " 469                 Capital of the Territory of Idaho.  \n",
       " 470                Capital of the Territory of Dakota.  \n",
       " 471               Capital of the Territory of Wyoming.  \n",
       " 472                   Capital of the State of Wyoming.  \n",
       " \n",
       " [473 rows x 4 columns],\n",
       "   .mw-parser-output .navbar{display:inline;font-size:88%;font-weight:normal}.mw-parser-output .navbar-collapse{float:left;text-align:left}.mw-parser-output .navbar-boxtext{word-spacing:0}.mw-parser-output .navbar ul{display:inline-block;white-space:nowrap;line-height:inherit}.mw-parser-output .navbar-brackets::before{margin-right:-0.125em;content:\"[ \"}.mw-parser-output .navbar-brackets::after{margin-left:-0.125em;content:\" ]\"}.mw-parser-output .navbar li{word-spacing:-0.125em}.mw-parser-output .navbar-mini abbr{font-variant:small-caps;border-bottom:none;text-decoration:none;cursor:inherit}.mw-parser-output .navbar-ct-full{font-size:114%;margin:0 7em}.mw-parser-output .navbar-ct-mini{font-size:114%;margin:0 4em}.mw-parser-output .infobox .navbar{font-size:100%}.mw-parser-output .navbox .navbar{display:block;font-size:100%}.mw-parser-output .navbox-title .navbar{float:left;text-align:left;margin-right:0.5em}vteCapitals of the United States by jurisdiction  \\\n",
       " 0  .mw-parser-output .div-col{margin-top:0.3em;co...                                                                                                                                                                                                                                                                                                                                                                                                                                                                                                                                                                                                                                                                                                                                                                                                                                                                                                                                                      \n",
       " \n",
       "   .mw-parser-output .navbar{display:inline;font-size:88%;font-weight:normal}.mw-parser-output .navbar-collapse{float:left;text-align:left}.mw-parser-output .navbar-boxtext{word-spacing:0}.mw-parser-output .navbar ul{display:inline-block;white-space:nowrap;line-height:inherit}.mw-parser-output .navbar-brackets::before{margin-right:-0.125em;content:\"[ \"}.mw-parser-output .navbar-brackets::after{margin-left:-0.125em;content:\" ]\"}.mw-parser-output .navbar li{word-spacing:-0.125em}.mw-parser-output .navbar-mini abbr{font-variant:small-caps;border-bottom:none;text-decoration:none;cursor:inherit}.mw-parser-output .navbar-ct-full{font-size:114%;margin:0 7em}.mw-parser-output .navbar-ct-mini{font-size:114%;margin:0 4em}.mw-parser-output .infobox .navbar{font-size:100%}.mw-parser-output .navbox .navbar{display:block;font-size:100%}.mw-parser-output .navbox-title .navbar{float:left;text-align:left;margin-right:0.5em}vteCapitals of the United States by jurisdiction.1  \n",
       " 0  .mw-parser-output .div-col{margin-top:0.3em;co...                                                                                                                                                                                                                                                                                                                                                                                                                                                                                                                                                                                                                                                                                                                                                                                                                                                                                                                                                       ,\n",
       "                  vteUnited States state-related lists  \\\n",
       " 0   List of states and territories of the United S...   \n",
       " 1                                        Demographics   \n",
       " 2                                             Economy   \n",
       " 3                                         Environment   \n",
       " 4                                           Geography   \n",
       " 5                                          Government   \n",
       " 6                                              Health   \n",
       " 7                                             History   \n",
       " 8                                                 Law   \n",
       " 9                                       Miscellaneous   \n",
       " 10                         Category  Commons  Portals   \n",
       " \n",
       "                vteUnited States state-related lists.1  \n",
       " 0   List of states and territories of the United S...  \n",
       " 1   Population African American Amish Asian Birth ...  \n",
       " 2   Billionaires Budgets Companies Credit ratings ...  \n",
       " 3   Botanical gardens Carbon dioxide emissions Par...  \n",
       " 4   Area Bays Beaches Coastline Elevation Extreme ...  \n",
       " 5   Agriculture commissioners Attorneys general Ca...  \n",
       " 6   Fertility rates Hospitals Human Development In...  \n",
       " 7   Date of statehood Name etymologies Historical ...  \n",
       " 8   Abortion Age of consent Alcohol Dry communitie...  \n",
       " 9   Abbreviations Airports Bus transit systems Cas...  \n",
       " 10                         Category  Commons  Portals  ,\n",
       "   vteLocation of the capital of the United States  \\\n",
       " 0                              Temporary capitals   \n",
       " 1                               Permanent capital   \n",
       " \n",
       "    vteLocation of the capital of the United States.1  \n",
       " 0  Philadelphia (1776; 1777; 1778–1783; 1791–1800...  \n",
       " 1                      Washington, D.C. (since 1800)  ,\n",
       "   vteState and territorial capitol buildings in the United States  \\\n",
       " 0                                             States                \n",
       " 1                                        Territories                \n",
       " \n",
       "   vteState and territorial capitol buildings in the United States.1  \n",
       " 0  Alabama Alaska Arizona Arkansas California Col...                 \n",
       " 1  American Samoa District of Columbia Guam North...                 ]"
      ]
     },
     "execution_count": 3,
     "metadata": {},
     "output_type": "execute_result"
    }
   ],
   "source": [
    "tables = pd.read_html(url)\n",
    "tables"
   ]
  },
  {
   "cell_type": "markdown",
   "metadata": {
    "slideshow": {
     "slide_type": "subslide"
    }
   },
   "source": [
    "What we get in return is a list of dataframes for any tabular data that Pandas found."
   ]
  },
  {
   "cell_type": "code",
   "execution_count": 4,
   "metadata": {
    "slideshow": {
     "slide_type": "fragment"
    }
   },
   "outputs": [
    {
     "data": {
      "text/plain": [
       "list"
      ]
     },
     "execution_count": 4,
     "metadata": {},
     "output_type": "execute_result"
    }
   ],
   "source": [
    "type(tables)"
   ]
  },
  {
   "cell_type": "markdown",
   "metadata": {
    "slideshow": {
     "slide_type": "subslide"
    }
   },
   "source": [
    "We can slice off any of those dataframes that we want using normal indexing."
   ]
  },
  {
   "cell_type": "code",
   "execution_count": 11,
   "metadata": {
    "slideshow": {
     "slide_type": "fragment"
    }
   },
   "outputs": [
    {
     "data": {
      "text/html": [
       "<div>\n",
       "<style scoped>\n",
       "    .dataframe tbody tr th:only-of-type {\n",
       "        vertical-align: middle;\n",
       "    }\n",
       "\n",
       "    .dataframe tbody tr th {\n",
       "        vertical-align: top;\n",
       "    }\n",
       "\n",
       "    .dataframe thead th {\n",
       "        text-align: right;\n",
       "    }\n",
       "</style>\n",
       "<table border=\"1\" class=\"dataframe\">\n",
       "  <thead>\n",
       "    <tr style=\"text-align: right;\">\n",
       "      <th></th>\n",
       "      <th>State</th>\n",
       "      <th>Capital</th>\n",
       "      <th>Capital Since</th>\n",
       "      <th>Area (sq-mi)</th>\n",
       "      <th>Municipal Population</th>\n",
       "      <th>Metropolitan</th>\n",
       "      <th>Metropolitan Population</th>\n",
       "      <th>Population Rank</th>\n",
       "    </tr>\n",
       "  </thead>\n",
       "  <tbody>\n",
       "    <tr>\n",
       "      <th>0</th>\n",
       "      <td>Alabama</td>\n",
       "      <td>Montgomery</td>\n",
       "      <td>1846</td>\n",
       "      <td>159.8</td>\n",
       "      <td>198525</td>\n",
       "      <td>373290</td>\n",
       "      <td>461516</td>\n",
       "      <td>3</td>\n",
       "    </tr>\n",
       "    <tr>\n",
       "      <th>1</th>\n",
       "      <td>Alaska</td>\n",
       "      <td>Juneau</td>\n",
       "      <td>1906</td>\n",
       "      <td>2716.7</td>\n",
       "      <td>32113</td>\n",
       "      <td>32113</td>\n",
       "      <td>NaN</td>\n",
       "      <td>3</td>\n",
       "    </tr>\n",
       "    <tr>\n",
       "      <th>2</th>\n",
       "      <td>Arizona</td>\n",
       "      <td>Phoenix</td>\n",
       "      <td>1912</td>\n",
       "      <td>517.6</td>\n",
       "      <td>1680992</td>\n",
       "      <td>4948203</td>\n",
       "      <td>5002221</td>\n",
       "      <td>1</td>\n",
       "    </tr>\n",
       "    <tr>\n",
       "      <th>3</th>\n",
       "      <td>Arkansas</td>\n",
       "      <td>Little Rock</td>\n",
       "      <td>1821</td>\n",
       "      <td>116.2</td>\n",
       "      <td>197312</td>\n",
       "      <td>742384</td>\n",
       "      <td>908941</td>\n",
       "      <td>1</td>\n",
       "    </tr>\n",
       "    <tr>\n",
       "      <th>4</th>\n",
       "      <td>California</td>\n",
       "      <td>Sacramento</td>\n",
       "      <td>1854</td>\n",
       "      <td>97.9</td>\n",
       "      <td>513624</td>\n",
       "      <td>2363730</td>\n",
       "      <td>2639124</td>\n",
       "      <td>6</td>\n",
       "    </tr>\n",
       "  </tbody>\n",
       "</table>\n",
       "</div>"
      ],
      "text/plain": [
       "        State      Capital Capital Since Area (sq-mi) Municipal Population  \\\n",
       "0     Alabama   Montgomery          1846        159.8               198525   \n",
       "1      Alaska       Juneau          1906       2716.7                32113   \n",
       "2     Arizona      Phoenix          1912        517.6              1680992   \n",
       "3    Arkansas  Little Rock          1821        116.2               197312   \n",
       "4  California   Sacramento          1854         97.9               513624   \n",
       "\n",
       "  Metropolitan Metropolitan Population Population Rank  \n",
       "0       373290                  461516               3  \n",
       "1        32113                     NaN               3  \n",
       "2      4948203                 5002221               1  \n",
       "3       742384                  908941               1  \n",
       "4      2363730                 2639124               6  "
      ]
     },
     "execution_count": 11,
     "metadata": {},
     "output_type": "execute_result"
    }
   ],
   "source": [
    "df = tables[1]\n",
    "df.columns = ['State', 'Capital', \n",
    "              'Capital Since', 'Area (sq-mi)', 'Municipal Population', 'Metropolitan', \n",
    "              'Metropolitan Population', 'Population Rank']\n",
    "df.head()"
   ]
  },
  {
   "cell_type": "markdown",
   "metadata": {
    "slideshow": {
     "slide_type": "subslide"
    }
   },
   "source": [
    "Cleanup of extra rows"
   ]
  },
  {
   "cell_type": "code",
   "execution_count": 12,
   "metadata": {
    "slideshow": {
     "slide_type": "fragment"
    }
   },
   "outputs": [
    {
     "data": {
      "text/html": [
       "<div>\n",
       "<style scoped>\n",
       "    .dataframe tbody tr th:only-of-type {\n",
       "        vertical-align: middle;\n",
       "    }\n",
       "\n",
       "    .dataframe tbody tr th {\n",
       "        vertical-align: top;\n",
       "    }\n",
       "\n",
       "    .dataframe thead th {\n",
       "        text-align: right;\n",
       "    }\n",
       "</style>\n",
       "<table border=\"1\" class=\"dataframe\">\n",
       "  <thead>\n",
       "    <tr style=\"text-align: right;\">\n",
       "      <th></th>\n",
       "      <th>State</th>\n",
       "      <th>Capital</th>\n",
       "      <th>Capital Since</th>\n",
       "      <th>Area (sq-mi)</th>\n",
       "      <th>Municipal Population</th>\n",
       "      <th>Metropolitan</th>\n",
       "      <th>Metropolitan Population</th>\n",
       "      <th>Population Rank</th>\n",
       "    </tr>\n",
       "  </thead>\n",
       "  <tbody>\n",
       "    <tr>\n",
       "      <th>0</th>\n",
       "      <td>Alabama</td>\n",
       "      <td>Montgomery</td>\n",
       "      <td>1846</td>\n",
       "      <td>159.8</td>\n",
       "      <td>198525</td>\n",
       "      <td>373290</td>\n",
       "      <td>461516</td>\n",
       "      <td>3</td>\n",
       "    </tr>\n",
       "    <tr>\n",
       "      <th>1</th>\n",
       "      <td>Alaska</td>\n",
       "      <td>Juneau</td>\n",
       "      <td>1906</td>\n",
       "      <td>2716.7</td>\n",
       "      <td>32113</td>\n",
       "      <td>32113</td>\n",
       "      <td>NaN</td>\n",
       "      <td>3</td>\n",
       "    </tr>\n",
       "    <tr>\n",
       "      <th>2</th>\n",
       "      <td>Arizona</td>\n",
       "      <td>Phoenix</td>\n",
       "      <td>1912</td>\n",
       "      <td>517.6</td>\n",
       "      <td>1680992</td>\n",
       "      <td>4948203</td>\n",
       "      <td>5002221</td>\n",
       "      <td>1</td>\n",
       "    </tr>\n",
       "    <tr>\n",
       "      <th>3</th>\n",
       "      <td>Arkansas</td>\n",
       "      <td>Little Rock</td>\n",
       "      <td>1821</td>\n",
       "      <td>116.2</td>\n",
       "      <td>197312</td>\n",
       "      <td>742384</td>\n",
       "      <td>908941</td>\n",
       "      <td>1</td>\n",
       "    </tr>\n",
       "    <tr>\n",
       "      <th>4</th>\n",
       "      <td>California</td>\n",
       "      <td>Sacramento</td>\n",
       "      <td>1854</td>\n",
       "      <td>97.9</td>\n",
       "      <td>513624</td>\n",
       "      <td>2363730</td>\n",
       "      <td>2639124</td>\n",
       "      <td>6</td>\n",
       "    </tr>\n",
       "  </tbody>\n",
       "</table>\n",
       "</div>"
      ],
      "text/plain": [
       "        State      Capital Capital Since Area (sq-mi) Municipal Population  \\\n",
       "0     Alabama   Montgomery          1846        159.8               198525   \n",
       "1      Alaska       Juneau          1906       2716.7                32113   \n",
       "2     Arizona      Phoenix          1912        517.6              1680992   \n",
       "3    Arkansas  Little Rock          1821        116.2               197312   \n",
       "4  California   Sacramento          1854         97.9               513624   \n",
       "\n",
       "  Metropolitan Metropolitan Population Population Rank  \n",
       "0       373290                  461516               3  \n",
       "1        32113                     NaN               3  \n",
       "2      4948203                 5002221               1  \n",
       "3       742384                  908941               1  \n",
       "4      2363730                 2639124               6  "
      ]
     },
     "execution_count": 12,
     "metadata": {},
     "output_type": "execute_result"
    }
   ],
   "source": [
    "df = df.iloc[0:]\n",
    "df.head()"
   ]
  },
  {
   "cell_type": "markdown",
   "metadata": {
    "slideshow": {
     "slide_type": "subslide"
    }
   },
   "source": [
    "Set the index to the `State` column"
   ]
  },
  {
   "cell_type": "code",
   "execution_count": 13,
   "metadata": {
    "slideshow": {
     "slide_type": "fragment"
    }
   },
   "outputs": [
    {
     "data": {
      "text/html": [
       "<div>\n",
       "<style scoped>\n",
       "    .dataframe tbody tr th:only-of-type {\n",
       "        vertical-align: middle;\n",
       "    }\n",
       "\n",
       "    .dataframe tbody tr th {\n",
       "        vertical-align: top;\n",
       "    }\n",
       "\n",
       "    .dataframe thead th {\n",
       "        text-align: right;\n",
       "    }\n",
       "</style>\n",
       "<table border=\"1\" class=\"dataframe\">\n",
       "  <thead>\n",
       "    <tr style=\"text-align: right;\">\n",
       "      <th></th>\n",
       "      <th>Capital</th>\n",
       "      <th>Capital Since</th>\n",
       "      <th>Area (sq-mi)</th>\n",
       "      <th>Municipal Population</th>\n",
       "      <th>Metropolitan</th>\n",
       "      <th>Metropolitan Population</th>\n",
       "      <th>Population Rank</th>\n",
       "    </tr>\n",
       "    <tr>\n",
       "      <th>State</th>\n",
       "      <th></th>\n",
       "      <th></th>\n",
       "      <th></th>\n",
       "      <th></th>\n",
       "      <th></th>\n",
       "      <th></th>\n",
       "      <th></th>\n",
       "    </tr>\n",
       "  </thead>\n",
       "  <tbody>\n",
       "    <tr>\n",
       "      <th>Alabama</th>\n",
       "      <td>Montgomery</td>\n",
       "      <td>1846</td>\n",
       "      <td>159.8</td>\n",
       "      <td>198525</td>\n",
       "      <td>373290</td>\n",
       "      <td>461516</td>\n",
       "      <td>3</td>\n",
       "    </tr>\n",
       "    <tr>\n",
       "      <th>Alaska</th>\n",
       "      <td>Juneau</td>\n",
       "      <td>1906</td>\n",
       "      <td>2716.7</td>\n",
       "      <td>32113</td>\n",
       "      <td>32113</td>\n",
       "      <td>NaN</td>\n",
       "      <td>3</td>\n",
       "    </tr>\n",
       "    <tr>\n",
       "      <th>Arizona</th>\n",
       "      <td>Phoenix</td>\n",
       "      <td>1912</td>\n",
       "      <td>517.6</td>\n",
       "      <td>1680992</td>\n",
       "      <td>4948203</td>\n",
       "      <td>5002221</td>\n",
       "      <td>1</td>\n",
       "    </tr>\n",
       "    <tr>\n",
       "      <th>Arkansas</th>\n",
       "      <td>Little Rock</td>\n",
       "      <td>1821</td>\n",
       "      <td>116.2</td>\n",
       "      <td>197312</td>\n",
       "      <td>742384</td>\n",
       "      <td>908941</td>\n",
       "      <td>1</td>\n",
       "    </tr>\n",
       "    <tr>\n",
       "      <th>California</th>\n",
       "      <td>Sacramento</td>\n",
       "      <td>1854</td>\n",
       "      <td>97.9</td>\n",
       "      <td>513624</td>\n",
       "      <td>2363730</td>\n",
       "      <td>2639124</td>\n",
       "      <td>6</td>\n",
       "    </tr>\n",
       "  </tbody>\n",
       "</table>\n",
       "</div>"
      ],
      "text/plain": [
       "                Capital Capital Since Area (sq-mi) Municipal Population  \\\n",
       "State                                                                     \n",
       "Alabama      Montgomery          1846        159.8               198525   \n",
       "Alaska           Juneau          1906       2716.7                32113   \n",
       "Arizona         Phoenix          1912        517.6              1680992   \n",
       "Arkansas    Little Rock          1821        116.2               197312   \n",
       "California   Sacramento          1854         97.9               513624   \n",
       "\n",
       "           Metropolitan Metropolitan Population Population Rank  \n",
       "State                                                            \n",
       "Alabama          373290                  461516               3  \n",
       "Alaska            32113                     NaN               3  \n",
       "Arizona         4948203                 5002221               1  \n",
       "Arkansas         742384                  908941               1  \n",
       "California      2363730                 2639124               6  "
      ]
     },
     "execution_count": 13,
     "metadata": {},
     "output_type": "execute_result"
    }
   ],
   "source": [
    "df.set_index('State', inplace=True)\n",
    "df.head()"
   ]
  },
  {
   "cell_type": "code",
   "execution_count": 14,
   "metadata": {
    "slideshow": {
     "slide_type": "subslide"
    }
   },
   "outputs": [
    {
     "data": {
      "text/plain": [
       "Capital                    Montgomery\n",
       "Capital Since                    1846\n",
       "Area (sq-mi)                    159.8\n",
       "Municipal Population           198525\n",
       "Metropolitan                   373290\n",
       "Metropolitan Population        461516\n",
       "Population Rank                     3\n",
       "Name: Alabama, dtype: object"
      ]
     },
     "execution_count": 14,
     "metadata": {},
     "output_type": "execute_result"
    }
   ],
   "source": [
    "df.loc['Alabama']"
   ]
  },
  {
   "cell_type": "markdown",
   "metadata": {
    "slideshow": {
     "slide_type": "slide"
    }
   },
   "source": [
    "## DataFrames as HTML"
   ]
  },
  {
   "cell_type": "markdown",
   "metadata": {
    "slideshow": {
     "slide_type": "subslide"
    }
   },
   "source": [
    "Pandas also had a `to_html` method that we can use to generate HTML tables from DataFrames."
   ]
  },
  {
   "cell_type": "code",
   "execution_count": 15,
   "metadata": {
    "scrolled": true,
    "slideshow": {
     "slide_type": "fragment"
    }
   },
   "outputs": [
    {
     "data": {
      "text/plain": [
       "'<table border=\"1\" class=\"dataframe\">\\n  <thead>\\n    <tr style=\"text-align: right;\">\\n      <th></th>\\n      <th>Capital</th>\\n      <th>Capital Since</th>\\n      <th>Area (sq-mi)</th>\\n      <th>Municipal Population</th>\\n      <th>Metropolitan</th>\\n      <th>Metropolitan Population</th>\\n      <th>Population Rank</th>\\n    </tr>\\n    <tr>\\n      <th>State</th>\\n      <th></th>\\n      <th></th>\\n      <th></th>\\n      <th></th>\\n      <th></th>\\n      <th></th>\\n      <th></th>\\n    </tr>\\n  </thead>\\n  <tbody>\\n    <tr>\\n      <th>Alabama</th>\\n      <td>Montgomery</td>\\n      <td>1846</td>\\n      <td>159.8</td>\\n      <td>198525</td>\\n      <td>373290</td>\\n      <td>461516</td>\\n      <td>3</td>\\n    </tr>\\n    <tr>\\n      <th>Alaska</th>\\n      <td>Juneau</td>\\n      <td>1906</td>\\n      <td>2716.7</td>\\n      <td>32113</td>\\n      <td>32113</td>\\n      <td>NaN</td>\\n      <td>3</td>\\n    </tr>\\n    <tr>\\n      <th>Arizona</th>\\n      <td>Phoenix</td>\\n      <td>1912</td>\\n      <td>517.6</td>\\n      <td>1680992</td>\\n      <td>4948203</td>\\n      <td>5002221</td>\\n      <td>1</td>\\n    </tr>\\n    <tr>\\n      <th>Arkansas</th>\\n      <td>Little Rock</td>\\n      <td>1821</td>\\n      <td>116.2</td>\\n      <td>197312</td>\\n      <td>742384</td>\\n      <td>908941</td>\\n      <td>1</td>\\n    </tr>\\n    <tr>\\n      <th>California</th>\\n      <td>Sacramento</td>\\n      <td>1854</td>\\n      <td>97.9</td>\\n      <td>513624</td>\\n      <td>2363730</td>\\n      <td>2639124</td>\\n      <td>6</td>\\n    </tr>\\n    <tr>\\n      <th>Colorado</th>\\n      <td>Denver</td>\\n      <td>1867</td>\\n      <td>153.3</td>\\n      <td>727211</td>\\n      <td>2967239</td>\\n      <td>3617927</td>\\n      <td>1</td>\\n    </tr>\\n    <tr>\\n      <th>Connecticut</th>\\n      <td>Hartford</td>\\n      <td>1875</td>\\n      <td>17.3</td>\\n      <td>122105</td>\\n      <td>1204877</td>\\n      <td>1470083</td>\\n      <td>3</td>\\n    </tr>\\n    <tr>\\n      <th>Delaware</th>\\n      <td>Dover</td>\\n      <td>1777</td>\\n      <td>22.4</td>\\n      <td>38079</td>\\n      <td>180786</td>\\n      <td>7209620</td>\\n      <td>2</td>\\n    </tr>\\n    <tr>\\n      <th>Florida</th>\\n      <td>Tallahassee</td>\\n      <td>1824</td>\\n      <td>95.7</td>\\n      <td>194500</td>\\n      <td>387227</td>\\n      <td>NaN</td>\\n      <td>7</td>\\n    </tr>\\n    <tr>\\n      <th>Georgia</th>\\n      <td>Atlanta</td>\\n      <td>1868</td>\\n      <td>133.5</td>\\n      <td>506811</td>\\n      <td>6020364</td>\\n      <td>6853392</td>\\n      <td>1</td>\\n    </tr>\\n    <tr>\\n      <th>Hawaii</th>\\n      <td>Honolulu</td>\\n      <td>1845</td>\\n      <td>68.4</td>\\n      <td>345064</td>\\n      <td>974563</td>\\n      <td>NaN</td>\\n      <td>1</td>\\n    </tr>\\n    <tr>\\n      <th>Idaho</th>\\n      <td>Boise</td>\\n      <td>1865</td>\\n      <td>63.8</td>\\n      <td>228959</td>\\n      <td>749202</td>\\n      <td>831235</td>\\n      <td>1</td>\\n    </tr>\\n    <tr>\\n      <th>Illinois</th>\\n      <td>Springfield</td>\\n      <td>1837</td>\\n      <td>54.0</td>\\n      <td>114230</td>\\n      <td>206868</td>\\n      <td>306399</td>\\n      <td>6</td>\\n    </tr>\\n    <tr>\\n      <th>Indiana</th>\\n      <td>Indianapolis</td>\\n      <td>1825</td>\\n      <td>361.5</td>\\n      <td>876384</td>\\n      <td>2074537</td>\\n      <td>2457286</td>\\n      <td>1</td>\\n    </tr>\\n    <tr>\\n      <th>Iowa</th>\\n      <td>Des Moines</td>\\n      <td>1857</td>\\n      <td>75.8</td>\\n      <td>214237</td>\\n      <td>699292</td>\\n      <td>877991</td>\\n      <td>1</td>\\n    </tr>\\n    <tr>\\n      <th>Kansas</th>\\n      <td>Topeka</td>\\n      <td>1856</td>\\n      <td>56.0</td>\\n      <td>125310</td>\\n      <td>231969</td>\\n      <td>NaN</td>\\n      <td>4</td>\\n    </tr>\\n    <tr>\\n      <th>Kentucky</th>\\n      <td>Frankfort</td>\\n      <td>1792</td>\\n      <td>14.7</td>\\n      <td>27679</td>\\n      <td>73663</td>\\n      <td>745033</td>\\n      <td>15</td>\\n    </tr>\\n    <tr>\\n      <th>Louisiana</th>\\n      <td>Baton Rouge</td>\\n      <td>1880</td>\\n      <td>76.8</td>\\n      <td>220236</td>\\n      <td>854884</td>\\n      <td>NaN</td>\\n      <td>2</td>\\n    </tr>\\n    <tr>\\n      <th>Maine</th>\\n      <td>Augusta</td>\\n      <td>1832</td>\\n      <td>55.4</td>\\n      <td>18681</td>\\n      <td>122302</td>\\n      <td>NaN</td>\\n      <td>8</td>\\n    </tr>\\n    <tr>\\n      <th>Maryland</th>\\n      <td>Annapolis</td>\\n      <td>1694</td>\\n      <td>6.73</td>\\n      <td>39174</td>\\n      <td>2800053</td>\\n      <td>9814928</td>\\n      <td>7</td>\\n    </tr>\\n    <tr>\\n      <th>Massachusetts</th>\\n      <td>Boston</td>\\n      <td>1630</td>\\n      <td>89.6</td>\\n      <td>692600</td>\\n      <td>4873019</td>\\n      <td>8287710</td>\\n      <td>1</td>\\n    </tr>\\n    <tr>\\n      <th>Michigan</th>\\n      <td>Lansing</td>\\n      <td>1847</td>\\n      <td>35.0</td>\\n      <td>118210</td>\\n      <td>550391</td>\\n      <td>NaN</td>\\n      <td>5</td>\\n    </tr>\\n    <tr>\\n      <th>Minnesota</th>\\n      <td>Saint Paul</td>\\n      <td>1849</td>\\n      <td>52.8</td>\\n      <td>308096</td>\\n      <td>3654908</td>\\n      <td>4027861</td>\\n      <td>2</td>\\n    </tr>\\n    <tr>\\n      <th>Mississippi</th>\\n      <td>Jackson</td>\\n      <td>1821</td>\\n      <td>104.9</td>\\n      <td>160628</td>\\n      <td>594806</td>\\n      <td>674340</td>\\n      <td>1</td>\\n    </tr>\\n    <tr>\\n      <th>Missouri</th>\\n      <td>Jefferson City</td>\\n      <td>1826</td>\\n      <td>27.3</td>\\n      <td>42838</td>\\n      <td>151235</td>\\n      <td>NaN</td>\\n      <td>15</td>\\n    </tr>\\n    <tr>\\n      <th>Montana</th>\\n      <td>Helena</td>\\n      <td>1875</td>\\n      <td>14.0</td>\\n      <td>32315</td>\\n      <td>77414</td>\\n      <td>NaN</td>\\n      <td>6</td>\\n    </tr>\\n    <tr>\\n      <th>Nebraska</th>\\n      <td>Lincoln</td>\\n      <td>1867</td>\\n      <td>74.6</td>\\n      <td>289102</td>\\n      <td>336374</td>\\n      <td>357887</td>\\n      <td>2</td>\\n    </tr>\\n    <tr>\\n      <th>Nevada</th>\\n      <td>Carson City</td>\\n      <td>1861</td>\\n      <td>143.4</td>\\n      <td>55916</td>\\n      <td>55916</td>\\n      <td>637973</td>\\n      <td>6</td>\\n    </tr>\\n    <tr>\\n      <th>New Hampshire</th>\\n      <td>Concord</td>\\n      <td>1808</td>\\n      <td>64.3</td>\\n      <td>43627</td>\\n      <td>151391</td>\\n      <td>8287710</td>\\n      <td>3</td>\\n    </tr>\\n    <tr>\\n      <th>New Jersey</th>\\n      <td>Trenton</td>\\n      <td>1784</td>\\n      <td>7.66</td>\\n      <td>83203</td>\\n      <td>367430</td>\\n      <td>22589036</td>\\n      <td>10</td>\\n    </tr>\\n    <tr>\\n      <th>New Mexico</th>\\n      <td>Santa Fe</td>\\n      <td>1610</td>\\n      <td>37.3</td>\\n      <td>84683</td>\\n      <td>150358</td>\\n      <td>1158464</td>\\n      <td>4</td>\\n    </tr>\\n    <tr>\\n      <th>New York</th>\\n      <td>Albany</td>\\n      <td>1797</td>\\n      <td>21.4</td>\\n      <td>96460</td>\\n      <td>880381</td>\\n      <td>1167594</td>\\n      <td>6</td>\\n    </tr>\\n    <tr>\\n      <th>North Carolina</th>\\n      <td>Raleigh</td>\\n      <td>1792</td>\\n      <td>114.6</td>\\n      <td>474069</td>\\n      <td>1390785</td>\\n      <td>2079687</td>\\n      <td>2</td>\\n    </tr>\\n    <tr>\\n      <th>North Dakota</th>\\n      <td>Bismarck</td>\\n      <td>1883</td>\\n      <td>26.9</td>\\n      <td>73529</td>\\n      <td>128949</td>\\n      <td>NaN</td>\\n      <td>2</td>\\n    </tr>\\n    <tr>\\n      <th>Ohio</th>\\n      <td>Columbus</td>\\n      <td>1816</td>\\n      <td>210.3</td>\\n      <td>898553</td>\\n      <td>2122271</td>\\n      <td>2525639</td>\\n      <td>1</td>\\n    </tr>\\n    <tr>\\n      <th>Oklahoma</th>\\n      <td>Oklahoma City</td>\\n      <td>1910</td>\\n      <td>620.3</td>\\n      <td>655057</td>\\n      <td>1408950</td>\\n      <td>1481542</td>\\n      <td>1</td>\\n    </tr>\\n    <tr>\\n      <th>Oregon</th>\\n      <td>Salem</td>\\n      <td>1855</td>\\n      <td>45.7</td>\\n      <td>174365</td>\\n      <td>433903</td>\\n      <td>3259710</td>\\n      <td>3</td>\\n    </tr>\\n    <tr>\\n      <th>Pennsylvania</th>\\n      <td>Harrisburg</td>\\n      <td>1812</td>\\n      <td>8.11</td>\\n      <td>49528</td>\\n      <td>577941</td>\\n      <td>1271801</td>\\n      <td>9</td>\\n    </tr>\\n    <tr>\\n      <th>Rhode Island</th>\\n      <td>Providence</td>\\n      <td>1900</td>\\n      <td>18.5</td>\\n      <td>179883</td>\\n      <td>1624578</td>\\n      <td>8287710</td>\\n      <td>1</td>\\n    </tr>\\n    <tr>\\n      <th>South Carolina</th>\\n      <td>Columbia</td>\\n      <td>1786</td>\\n      <td>125.2</td>\\n      <td>131674</td>\\n      <td>838433</td>\\n      <td>963048</td>\\n      <td>2</td>\\n    </tr>\\n    <tr>\\n      <th>South Dakota</th>\\n      <td>Pierre</td>\\n      <td>1889</td>\\n      <td>13.0</td>\\n      <td>13646</td>\\n      <td>20672</td>\\n      <td>NaN</td>\\n      <td>8</td>\\n    </tr>\\n    <tr>\\n      <th>Tennessee</th>\\n      <td>Nashville</td>\\n      <td>1826</td>\\n      <td>525.9</td>\\n      <td>670820</td>\\n      <td>1934317</td>\\n      <td>2062547</td>\\n      <td>1</td>\\n    </tr>\\n    <tr>\\n      <th>Texas</th>\\n      <td>Austin</td>\\n      <td>1839</td>\\n      <td>305.1</td>\\n      <td>978908</td>\\n      <td>2227083</td>\\n      <td>NaN</td>\\n      <td>4</td>\\n    </tr>\\n    <tr>\\n      <th>Utah</th>\\n      <td>Salt Lake City</td>\\n      <td>1858</td>\\n      <td>109.1</td>\\n      <td>200567</td>\\n      <td>1232696</td>\\n      <td>2641048</td>\\n      <td>1</td>\\n    </tr>\\n    <tr>\\n      <th>Vermont</th>\\n      <td>Montpelier</td>\\n      <td>1805</td>\\n      <td>10.2</td>\\n      <td>7855</td>\\n      <td>NaN</td>\\n      <td>NaN</td>\\n      <td>6</td>\\n    </tr>\\n    <tr>\\n      <th>Virginia</th>\\n      <td>Richmond</td>\\n      <td>1780</td>\\n      <td>60.1</td>\\n      <td>230436</td>\\n      <td>1291900</td>\\n      <td>NaN</td>\\n      <td>4</td>\\n    </tr>\\n    <tr>\\n      <th>Washington</th>\\n      <td>Olympia</td>\\n      <td>1853</td>\\n      <td>16.7</td>\\n      <td>46478</td>\\n      <td>290536</td>\\n      <td>4903675</td>\\n      <td>24</td>\\n    </tr>\\n    <tr>\\n      <th>West Virginia</th>\\n      <td>Charleston</td>\\n      <td>1885</td>\\n      <td>31.6</td>\\n      <td>46536</td>\\n      <td>257074</td>\\n      <td>776694</td>\\n      <td>1</td>\\n    </tr>\\n    <tr>\\n      <th>Wisconsin</th>\\n      <td>Madison</td>\\n      <td>1838</td>\\n      <td>68.7</td>\\n      <td>259680</td>\\n      <td>664865</td>\\n      <td>892661</td>\\n      <td>2</td>\\n    </tr>\\n    <tr>\\n      <th>Wyoming</th>\\n      <td>Cheyenne</td>\\n      <td>1869</td>\\n      <td>21.1</td>\\n      <td>64235</td>\\n      <td>99500</td>\\n      <td>NaN</td>\\n      <td>1</td>\\n    </tr>\\n    <tr>\\n      <th>[15]</th>\\n      <td>[15]</td>\\n      <td>[15]</td>\\n      <td>[15]</td>\\n      <td>[15]</td>\\n      <td>[15]</td>\\n      <td>[15]</td>\\n      <td>[15]</td>\\n    </tr>\\n  </tbody>\\n</table>'"
      ]
     },
     "execution_count": 15,
     "metadata": {},
     "output_type": "execute_result"
    }
   ],
   "source": [
    "html_table = df.to_html()\n",
    "html_table"
   ]
  },
  {
   "cell_type": "markdown",
   "metadata": {
    "slideshow": {
     "slide_type": "subslide"
    }
   },
   "source": [
    "You may have to strip unwanted newlines to clean up the table."
   ]
  },
  {
   "cell_type": "code",
   "execution_count": 16,
   "metadata": {
    "scrolled": true,
    "slideshow": {
     "slide_type": "fragment"
    }
   },
   "outputs": [
    {
     "data": {
      "text/plain": [
       "'<table border=\"1\" class=\"dataframe\">  <thead>    <tr style=\"text-align: right;\">      <th></th>      <th>Capital</th>      <th>Capital Since</th>      <th>Area (sq-mi)</th>      <th>Municipal Population</th>      <th>Metropolitan</th>      <th>Metropolitan Population</th>      <th>Population Rank</th>    </tr>    <tr>      <th>State</th>      <th></th>      <th></th>      <th></th>      <th></th>      <th></th>      <th></th>      <th></th>    </tr>  </thead>  <tbody>    <tr>      <th>Alabama</th>      <td>Montgomery</td>      <td>1846</td>      <td>159.8</td>      <td>198525</td>      <td>373290</td>      <td>461516</td>      <td>3</td>    </tr>    <tr>      <th>Alaska</th>      <td>Juneau</td>      <td>1906</td>      <td>2716.7</td>      <td>32113</td>      <td>32113</td>      <td>NaN</td>      <td>3</td>    </tr>    <tr>      <th>Arizona</th>      <td>Phoenix</td>      <td>1912</td>      <td>517.6</td>      <td>1680992</td>      <td>4948203</td>      <td>5002221</td>      <td>1</td>    </tr>    <tr>      <th>Arkansas</th>      <td>Little Rock</td>      <td>1821</td>      <td>116.2</td>      <td>197312</td>      <td>742384</td>      <td>908941</td>      <td>1</td>    </tr>    <tr>      <th>California</th>      <td>Sacramento</td>      <td>1854</td>      <td>97.9</td>      <td>513624</td>      <td>2363730</td>      <td>2639124</td>      <td>6</td>    </tr>    <tr>      <th>Colorado</th>      <td>Denver</td>      <td>1867</td>      <td>153.3</td>      <td>727211</td>      <td>2967239</td>      <td>3617927</td>      <td>1</td>    </tr>    <tr>      <th>Connecticut</th>      <td>Hartford</td>      <td>1875</td>      <td>17.3</td>      <td>122105</td>      <td>1204877</td>      <td>1470083</td>      <td>3</td>    </tr>    <tr>      <th>Delaware</th>      <td>Dover</td>      <td>1777</td>      <td>22.4</td>      <td>38079</td>      <td>180786</td>      <td>7209620</td>      <td>2</td>    </tr>    <tr>      <th>Florida</th>      <td>Tallahassee</td>      <td>1824</td>      <td>95.7</td>      <td>194500</td>      <td>387227</td>      <td>NaN</td>      <td>7</td>    </tr>    <tr>      <th>Georgia</th>      <td>Atlanta</td>      <td>1868</td>      <td>133.5</td>      <td>506811</td>      <td>6020364</td>      <td>6853392</td>      <td>1</td>    </tr>    <tr>      <th>Hawaii</th>      <td>Honolulu</td>      <td>1845</td>      <td>68.4</td>      <td>345064</td>      <td>974563</td>      <td>NaN</td>      <td>1</td>    </tr>    <tr>      <th>Idaho</th>      <td>Boise</td>      <td>1865</td>      <td>63.8</td>      <td>228959</td>      <td>749202</td>      <td>831235</td>      <td>1</td>    </tr>    <tr>      <th>Illinois</th>      <td>Springfield</td>      <td>1837</td>      <td>54.0</td>      <td>114230</td>      <td>206868</td>      <td>306399</td>      <td>6</td>    </tr>    <tr>      <th>Indiana</th>      <td>Indianapolis</td>      <td>1825</td>      <td>361.5</td>      <td>876384</td>      <td>2074537</td>      <td>2457286</td>      <td>1</td>    </tr>    <tr>      <th>Iowa</th>      <td>Des Moines</td>      <td>1857</td>      <td>75.8</td>      <td>214237</td>      <td>699292</td>      <td>877991</td>      <td>1</td>    </tr>    <tr>      <th>Kansas</th>      <td>Topeka</td>      <td>1856</td>      <td>56.0</td>      <td>125310</td>      <td>231969</td>      <td>NaN</td>      <td>4</td>    </tr>    <tr>      <th>Kentucky</th>      <td>Frankfort</td>      <td>1792</td>      <td>14.7</td>      <td>27679</td>      <td>73663</td>      <td>745033</td>      <td>15</td>    </tr>    <tr>      <th>Louisiana</th>      <td>Baton Rouge</td>      <td>1880</td>      <td>76.8</td>      <td>220236</td>      <td>854884</td>      <td>NaN</td>      <td>2</td>    </tr>    <tr>      <th>Maine</th>      <td>Augusta</td>      <td>1832</td>      <td>55.4</td>      <td>18681</td>      <td>122302</td>      <td>NaN</td>      <td>8</td>    </tr>    <tr>      <th>Maryland</th>      <td>Annapolis</td>      <td>1694</td>      <td>6.73</td>      <td>39174</td>      <td>2800053</td>      <td>9814928</td>      <td>7</td>    </tr>    <tr>      <th>Massachusetts</th>      <td>Boston</td>      <td>1630</td>      <td>89.6</td>      <td>692600</td>      <td>4873019</td>      <td>8287710</td>      <td>1</td>    </tr>    <tr>      <th>Michigan</th>      <td>Lansing</td>      <td>1847</td>      <td>35.0</td>      <td>118210</td>      <td>550391</td>      <td>NaN</td>      <td>5</td>    </tr>    <tr>      <th>Minnesota</th>      <td>Saint Paul</td>      <td>1849</td>      <td>52.8</td>      <td>308096</td>      <td>3654908</td>      <td>4027861</td>      <td>2</td>    </tr>    <tr>      <th>Mississippi</th>      <td>Jackson</td>      <td>1821</td>      <td>104.9</td>      <td>160628</td>      <td>594806</td>      <td>674340</td>      <td>1</td>    </tr>    <tr>      <th>Missouri</th>      <td>Jefferson City</td>      <td>1826</td>      <td>27.3</td>      <td>42838</td>      <td>151235</td>      <td>NaN</td>      <td>15</td>    </tr>    <tr>      <th>Montana</th>      <td>Helena</td>      <td>1875</td>      <td>14.0</td>      <td>32315</td>      <td>77414</td>      <td>NaN</td>      <td>6</td>    </tr>    <tr>      <th>Nebraska</th>      <td>Lincoln</td>      <td>1867</td>      <td>74.6</td>      <td>289102</td>      <td>336374</td>      <td>357887</td>      <td>2</td>    </tr>    <tr>      <th>Nevada</th>      <td>Carson City</td>      <td>1861</td>      <td>143.4</td>      <td>55916</td>      <td>55916</td>      <td>637973</td>      <td>6</td>    </tr>    <tr>      <th>New Hampshire</th>      <td>Concord</td>      <td>1808</td>      <td>64.3</td>      <td>43627</td>      <td>151391</td>      <td>8287710</td>      <td>3</td>    </tr>    <tr>      <th>New Jersey</th>      <td>Trenton</td>      <td>1784</td>      <td>7.66</td>      <td>83203</td>      <td>367430</td>      <td>22589036</td>      <td>10</td>    </tr>    <tr>      <th>New Mexico</th>      <td>Santa Fe</td>      <td>1610</td>      <td>37.3</td>      <td>84683</td>      <td>150358</td>      <td>1158464</td>      <td>4</td>    </tr>    <tr>      <th>New York</th>      <td>Albany</td>      <td>1797</td>      <td>21.4</td>      <td>96460</td>      <td>880381</td>      <td>1167594</td>      <td>6</td>    </tr>    <tr>      <th>North Carolina</th>      <td>Raleigh</td>      <td>1792</td>      <td>114.6</td>      <td>474069</td>      <td>1390785</td>      <td>2079687</td>      <td>2</td>    </tr>    <tr>      <th>North Dakota</th>      <td>Bismarck</td>      <td>1883</td>      <td>26.9</td>      <td>73529</td>      <td>128949</td>      <td>NaN</td>      <td>2</td>    </tr>    <tr>      <th>Ohio</th>      <td>Columbus</td>      <td>1816</td>      <td>210.3</td>      <td>898553</td>      <td>2122271</td>      <td>2525639</td>      <td>1</td>    </tr>    <tr>      <th>Oklahoma</th>      <td>Oklahoma City</td>      <td>1910</td>      <td>620.3</td>      <td>655057</td>      <td>1408950</td>      <td>1481542</td>      <td>1</td>    </tr>    <tr>      <th>Oregon</th>      <td>Salem</td>      <td>1855</td>      <td>45.7</td>      <td>174365</td>      <td>433903</td>      <td>3259710</td>      <td>3</td>    </tr>    <tr>      <th>Pennsylvania</th>      <td>Harrisburg</td>      <td>1812</td>      <td>8.11</td>      <td>49528</td>      <td>577941</td>      <td>1271801</td>      <td>9</td>    </tr>    <tr>      <th>Rhode Island</th>      <td>Providence</td>      <td>1900</td>      <td>18.5</td>      <td>179883</td>      <td>1624578</td>      <td>8287710</td>      <td>1</td>    </tr>    <tr>      <th>South Carolina</th>      <td>Columbia</td>      <td>1786</td>      <td>125.2</td>      <td>131674</td>      <td>838433</td>      <td>963048</td>      <td>2</td>    </tr>    <tr>      <th>South Dakota</th>      <td>Pierre</td>      <td>1889</td>      <td>13.0</td>      <td>13646</td>      <td>20672</td>      <td>NaN</td>      <td>8</td>    </tr>    <tr>      <th>Tennessee</th>      <td>Nashville</td>      <td>1826</td>      <td>525.9</td>      <td>670820</td>      <td>1934317</td>      <td>2062547</td>      <td>1</td>    </tr>    <tr>      <th>Texas</th>      <td>Austin</td>      <td>1839</td>      <td>305.1</td>      <td>978908</td>      <td>2227083</td>      <td>NaN</td>      <td>4</td>    </tr>    <tr>      <th>Utah</th>      <td>Salt Lake City</td>      <td>1858</td>      <td>109.1</td>      <td>200567</td>      <td>1232696</td>      <td>2641048</td>      <td>1</td>    </tr>    <tr>      <th>Vermont</th>      <td>Montpelier</td>      <td>1805</td>      <td>10.2</td>      <td>7855</td>      <td>NaN</td>      <td>NaN</td>      <td>6</td>    </tr>    <tr>      <th>Virginia</th>      <td>Richmond</td>      <td>1780</td>      <td>60.1</td>      <td>230436</td>      <td>1291900</td>      <td>NaN</td>      <td>4</td>    </tr>    <tr>      <th>Washington</th>      <td>Olympia</td>      <td>1853</td>      <td>16.7</td>      <td>46478</td>      <td>290536</td>      <td>4903675</td>      <td>24</td>    </tr>    <tr>      <th>West Virginia</th>      <td>Charleston</td>      <td>1885</td>      <td>31.6</td>      <td>46536</td>      <td>257074</td>      <td>776694</td>      <td>1</td>    </tr>    <tr>      <th>Wisconsin</th>      <td>Madison</td>      <td>1838</td>      <td>68.7</td>      <td>259680</td>      <td>664865</td>      <td>892661</td>      <td>2</td>    </tr>    <tr>      <th>Wyoming</th>      <td>Cheyenne</td>      <td>1869</td>      <td>21.1</td>      <td>64235</td>      <td>99500</td>      <td>NaN</td>      <td>1</td>    </tr>    <tr>      <th>[15]</th>      <td>[15]</td>      <td>[15]</td>      <td>[15]</td>      <td>[15]</td>      <td>[15]</td>      <td>[15]</td>      <td>[15]</td>    </tr>  </tbody></table>'"
      ]
     },
     "execution_count": 16,
     "metadata": {},
     "output_type": "execute_result"
    }
   ],
   "source": [
    "html_table.replace('\\n', '')"
   ]
  },
  {
   "cell_type": "markdown",
   "metadata": {
    "slideshow": {
     "slide_type": "subslide"
    }
   },
   "source": [
    "You can also save the table directly to a file."
   ]
  },
  {
   "cell_type": "code",
   "execution_count": 17,
   "metadata": {
    "slideshow": {
     "slide_type": "fragment"
    }
   },
   "outputs": [],
   "source": [
    "df.to_html('table.html')"
   ]
  },
  {
   "cell_type": "code",
   "execution_count": 18,
   "metadata": {
    "slideshow": {
     "slide_type": "fragment"
    }
   },
   "outputs": [],
   "source": [
    "# OSX Users can run this to open the file in a browser, \n",
    "# or you can manually find the file and open it in the browser\n",
    "!open table.html"
   ]
  },
  {
   "cell_type": "code",
   "execution_count": null,
   "metadata": {},
   "outputs": [],
   "source": []
  }
 ],
 "metadata": {
  "kernelspec": {
   "display_name": "Python 3",
   "language": "python",
   "name": "python3"
  },
  "language_info": {
   "codemirror_mode": {
    "name": "ipython",
    "version": 3
   },
   "file_extension": ".py",
   "mimetype": "text/x-python",
   "name": "python",
   "nbconvert_exporter": "python",
   "pygments_lexer": "ipython3",
   "version": "3.6.10"
  },
  "varInspector": {
   "cols": {
    "lenName": 16,
    "lenType": 16,
    "lenVar": 40
   },
   "kernels_config": {
    "python": {
     "delete_cmd_postfix": "",
     "delete_cmd_prefix": "del ",
     "library": "var_list.py",
     "varRefreshCmd": "print(var_dic_list())"
    },
    "r": {
     "delete_cmd_postfix": ") ",
     "delete_cmd_prefix": "rm(",
     "library": "var_list.r",
     "varRefreshCmd": "cat(var_dic_list()) "
    }
   },
   "types_to_exclude": [
    "module",
    "function",
    "builtin_function_or_method",
    "instance",
    "_Feature"
   ],
   "window_display": false
  }
 },
 "nbformat": 4,
 "nbformat_minor": 2
}
